{
  "nbformat": 4,
  "nbformat_minor": 0,
  "metadata": {
    "colab": {
      "provenance": [],
      "authorship_tag": "ABX9TyOM3itILr/iHOQWmo3ZFjWC",
      "include_colab_link": true
    },
    "kernelspec": {
      "name": "python3",
      "display_name": "Python 3"
    },
    "language_info": {
      "name": "python"
    }
  },
  "cells": [
    {
      "cell_type": "markdown",
      "metadata": {
        "id": "view-in-github",
        "colab_type": "text"
      },
      "source": [
        "<a href=\"https://colab.research.google.com/github/Amir13849271741537/Amir/blob/main/Untitled33.ipynb\" target=\"_parent\"><img src=\"https://colab.research.google.com/assets/colab-badge.svg\" alt=\"Open In Colab\"/></a>"
      ]
    },
    {
      "cell_type": "code",
      "execution_count": 1,
      "metadata": {
        "colab": {
          "base_uri": "https://localhost:8080/"
        },
        "id": "Mj6-NzhXp9_j",
        "outputId": "10b0d858-1e6f-4054-bea1-9e12db5ea2d5"
      },
      "outputs": [
        {
          "output_type": "stream",
          "name": "stdout",
          "text": [
            "سلام! این یک تست ساده در Google Colab است.\n",
            "نتیجه جمع: 30\n"
          ]
        }
      ],
      "source": [
        "\n",
        "# چاپ یک متن ساده\n",
        "print(\"سلام! این یک تست ساده در Google Colab است.\")\n",
        "\n",
        "# جمع دو عدد\n",
        "a = 10\n",
        "b = 20\n",
        "c = a + b\n",
        "\n",
        "print(\"نتیجه جمع:\", c)"
      ]
    }
  ]
}