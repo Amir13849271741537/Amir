{
  "nbformat": 4,
  "nbformat_minor": 0,
  "metadata": {
    "colab": {
      "provenance": [],
      "authorship_tag": "ABX9TyNAHuR9hu8qx0554CMlAq+h",
      "include_colab_link": true
    },
    "kernelspec": {
      "name": "python3",
      "display_name": "Python 3"
    },
    "language_info": {
      "name": "python"
    }
  },
  "cells": [
    {
      "cell_type": "markdown",
      "metadata": {
        "id": "view-in-github",
        "colab_type": "text"
      },
      "source": [
        "<a href=\"https://colab.research.google.com/github/Amir13849271741537/Amir/blob/main/Untitled32.ipynb\" target=\"_parent\"><img src=\"https://colab.research.google.com/assets/colab-badge.svg\" alt=\"Open In Colab\"/></a>"
      ]
    },
    {
      "cell_type": "code",
      "execution_count": 1,
      "metadata": {
        "colab": {
          "base_uri": "https://localhost:8080/"
        },
        "id": "qDhZ0Xzvn8oB",
        "outputId": "77bb63fe-1957-407d-8f66-a132a130a50f"
      },
      "outputs": [
        {
          "output_type": "stream",
          "name": "stdout",
          "text": [
            "سلام! این یک تست ساده در Google Colab است.\n",
            "نتیجه جمع: 30\n"
          ]
        }
      ],
      "source": [
        "\n",
        "# چاپ یک متن ساده\n",
        "print(\"سلام! این یک تست ساده در Google Colab است.\")\n",
        "\n",
        "# جمع دو عدد\n",
        "a = 10\n",
        "b = 20\n",
        "c = a + b\n",
        "\n",
        "print(\"نتیجه جمع:\", c)"
      ]
    },
    {
      "cell_type": "code",
      "source": [],
      "metadata": {
        "id": "38s1IoJ8oV2y"
      },
      "execution_count": null,
      "outputs": []
    }
  ]
}